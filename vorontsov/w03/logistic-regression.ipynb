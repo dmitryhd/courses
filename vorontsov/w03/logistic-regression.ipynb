{
 "cells": [
  {
   "cell_type": "code",
   "execution_count": 1,
   "metadata": {
    "ExecuteTime": {
     "end_time": "2016-10-24T23:44:05.167933",
     "start_time": "2016-10-24T23:44:04.422632"
    },
    "collapsed": false,
    "run_control": {
     "frozen": false,
     "read_only": false
    }
   },
   "outputs": [],
   "source": [
    "import pandas as pd\n",
    "log_data = pd.read_csv('data/data-logistic.csv', header=None)"
   ]
  },
  {
   "cell_type": "code",
   "execution_count": 2,
   "metadata": {
    "ExecuteTime": {
     "end_time": "2016-10-24T23:44:05.267433",
     "start_time": "2016-10-24T23:44:05.265070"
    },
    "collapsed": false,
    "run_control": {
     "frozen": false,
     "read_only": false
    }
   },
   "outputs": [],
   "source": [
    "log_data.columns = ['y', 'x1', 'x2']"
   ]
  },
  {
   "cell_type": "code",
   "execution_count": 3,
   "metadata": {
    "ExecuteTime": {
     "end_time": "2016-10-24T23:44:05.969705",
     "start_time": "2016-10-24T23:44:05.940760"
    },
    "collapsed": false,
    "run_control": {
     "frozen": false,
     "read_only": false
    }
   },
   "outputs": [
    {
     "data": {
      "text/html": [
       "<div>\n",
       "<table border=\"1\" class=\"dataframe\">\n",
       "  <thead>\n",
       "    <tr style=\"text-align: right;\">\n",
       "      <th></th>\n",
       "      <th>y</th>\n",
       "      <th>x1</th>\n",
       "      <th>x2</th>\n",
       "    </tr>\n",
       "  </thead>\n",
       "  <tbody>\n",
       "    <tr>\n",
       "      <th>0</th>\n",
       "      <td>-1</td>\n",
       "      <td>-0.663827</td>\n",
       "      <td>-0.138526</td>\n",
       "    </tr>\n",
       "    <tr>\n",
       "      <th>1</th>\n",
       "      <td>1</td>\n",
       "      <td>1.994596</td>\n",
       "      <td>2.468025</td>\n",
       "    </tr>\n",
       "    <tr>\n",
       "      <th>2</th>\n",
       "      <td>-1</td>\n",
       "      <td>-1.247395</td>\n",
       "      <td>0.749425</td>\n",
       "    </tr>\n",
       "    <tr>\n",
       "      <th>3</th>\n",
       "      <td>1</td>\n",
       "      <td>2.309374</td>\n",
       "      <td>1.899836</td>\n",
       "    </tr>\n",
       "    <tr>\n",
       "      <th>4</th>\n",
       "      <td>1</td>\n",
       "      <td>0.849143</td>\n",
       "      <td>2.407750</td>\n",
       "    </tr>\n",
       "  </tbody>\n",
       "</table>\n",
       "</div>"
      ],
      "text/plain": [
       "   y        x1        x2\n",
       "0 -1 -0.663827 -0.138526\n",
       "1  1  1.994596  2.468025\n",
       "2 -1 -1.247395  0.749425\n",
       "3  1  2.309374  1.899836\n",
       "4  1  0.849143  2.407750"
      ]
     },
     "execution_count": 3,
     "metadata": {},
     "output_type": "execute_result"
    }
   ],
   "source": [
    "df = log_data\n",
    "df.head()"
   ]
  },
  {
   "cell_type": "code",
   "execution_count": 4,
   "metadata": {
    "ExecuteTime": {
     "end_time": "2016-10-24T23:44:06.519732",
     "start_time": "2016-10-24T23:44:06.514174"
    },
    "collapsed": false
   },
   "outputs": [
    {
     "data": {
      "text/plain": [
       "205"
      ]
     },
     "execution_count": 4,
     "metadata": {},
     "output_type": "execute_result"
    }
   ],
   "source": [
    "len(df)"
   ]
  },
  {
   "cell_type": "code",
   "execution_count": 5,
   "metadata": {
    "ExecuteTime": {
     "end_time": "2016-10-24T23:44:07.199051",
     "start_time": "2016-10-24T23:44:07.195632"
    },
    "collapsed": true,
    "run_control": {
     "frozen": false,
     "read_only": false
    }
   },
   "outputs": [],
   "source": [
    "import numpy as np"
   ]
  },
  {
   "cell_type": "code",
   "execution_count": 6,
   "metadata": {
    "ExecuteTime": {
     "end_time": "2016-10-24T23:44:07.643753",
     "start_time": "2016-10-24T23:44:07.626195"
    },
    "collapsed": false,
    "run_control": {
     "frozen": false,
     "read_only": false
    }
   },
   "outputs": [],
   "source": [
    "from tqdm import tqdm"
   ]
  },
  {
   "cell_type": "code",
   "execution_count": 9,
   "metadata": {
    "ExecuteTime": {
     "end_time": "2016-10-24T23:44:12.862364",
     "start_time": "2016-10-24T23:44:12.834473"
    },
    "collapsed": true,
    "run_control": {
     "frozen": false,
     "read_only": false
    }
   },
   "outputs": [],
   "source": [
    "def z(df, w10, w20, k, C, f='x1') -> float:\n",
    "    res = k * np.sum(df['y'] * df[f] * (1 - 1/(1 + np.exp(-df['y']*(w10 * df['x1'] + w20 * df['x2']))))) / len(df)\n",
    "    if f == 'x1':\n",
    "        res -= k * C * w10\n",
    "        res += w10\n",
    "    else:\n",
    "        res -= k * C * w20\n",
    "        res += w20\n",
    "    return res\n",
    "\n",
    "def gd(log_data: pd.DataFrame, k = 0.1, C = 0.1, r=10000) -> tuple:\n",
    "    w10 = 0\n",
    "    w20 = 0\n",
    "    for i in tqdm(range(r), ncols=200):\n",
    "        w11 = z(log_data, w10, w20, k, C, f='x1')\n",
    "        w21 = z(log_data, w10, w20, k, C, f='x2')\n",
    "        dist = np.linalg.norm(np.array([w10, w20]) - np.array([w11, w21]))\n",
    "        if dist < 1e-5:\n",
    "            return w11, w21\n",
    "        print(dist)\n",
    "        w10, w20 = w11, w21\n",
    "    return w10, w20  # (0.028558754546234206, 0.024780137249735545)"
   ]
  },
  {
   "cell_type": "code",
   "execution_count": 10,
   "metadata": {
    "ExecuteTime": {
     "end_time": "2016-10-24T23:44:12.909137",
     "start_time": "2016-10-24T23:44:12.864834"
    },
    "collapsed": false,
    "run_control": {
     "frozen": false,
     "read_only": false
    }
   },
   "outputs": [
    {
     "name": "stderr",
     "output_type": "stream",
     "text": [
      "\r",
      "  0%|                                                                                                                                                                         | 0/10000 [00:00<?, ?it/s]"
     ]
    },
    {
     "name": "stdout",
     "output_type": "stream",
     "text": [
      "0.0482739384539\n",
      "0.0132587803327\n",
      "0.00349018975742\n",
      "0.000935717143569\n",
      "0.00024974376394\n",
      "6.67386427032e-05\n",
      "1.78286589294e-05\n"
     ]
    },
    {
     "name": "stderr",
     "output_type": "stream",
     "text": [
      "\n"
     ]
    },
    {
     "data": {
      "text/plain": [
       "(0.028558754546234206, 0.024780137249735545)"
      ]
     },
     "execution_count": 10,
     "metadata": {},
     "output_type": "execute_result"
    }
   ],
   "source": [
    "w1, w2 = gd(log_data, C=10, k=0.1, r=10000) \n",
    "w1, w2"
   ]
  },
  {
   "cell_type": "code",
   "execution_count": 11,
   "metadata": {
    "ExecuteTime": {
     "end_time": "2016-10-24T23:44:13.323731",
     "start_time": "2016-10-24T23:44:13.321019"
    },
    "collapsed": true
   },
   "outputs": [],
   "source": [
    "def f(w1, w2, x1, x2, y) -> float:\n",
    "    return 1 / (1 + np.exp((-x1 * w1 - x2 * w2)*y))"
   ]
  },
  {
   "cell_type": "code",
   "execution_count": 12,
   "metadata": {
    "ExecuteTime": {
     "end_time": "2016-10-24T23:44:19.362110",
     "start_time": "2016-10-24T23:44:19.355425"
    },
    "collapsed": false
   },
   "outputs": [
    {
     "data": {
      "text/plain": [
       "(0.49440254244176762, 0.50559745755823238)"
      ]
     },
     "execution_count": 12,
     "metadata": {},
     "output_type": "execute_result"
    }
   ],
   "source": [
    "f(w1, w2, -0.663827, -0.138526, 1), f(w1, w2, -0.663827, -0.138526, -1), "
   ]
  },
  {
   "cell_type": "code",
   "execution_count": 13,
   "metadata": {
    "ExecuteTime": {
     "end_time": "2016-10-24T23:44:20.249532",
     "start_time": "2016-10-24T23:44:20.219054"
    },
    "collapsed": false
   },
   "outputs": [],
   "source": [
    "res = [f(w1, w2, x['x1'], x['x2'], 1) for _, x in df.iterrows()]"
   ]
  },
  {
   "cell_type": "code",
   "execution_count": 14,
   "metadata": {
    "ExecuteTime": {
     "end_time": "2016-10-24T23:44:21.952877",
     "start_time": "2016-10-24T23:44:21.690841"
    },
    "collapsed": true
   },
   "outputs": [],
   "source": [
    "from sklearn.metrics import roc_auc_score"
   ]
  },
  {
   "cell_type": "code",
   "execution_count": 15,
   "metadata": {
    "ExecuteTime": {
     "end_time": "2016-10-24T23:44:22.971531",
     "start_time": "2016-10-24T23:44:22.963246"
    },
    "collapsed": false
   },
   "outputs": [
    {
     "data": {
      "text/plain": [
       "0.93628571428571417"
      ]
     },
     "execution_count": 15,
     "metadata": {},
     "output_type": "execute_result"
    }
   ],
   "source": [
    "roc_auc_score(df['y'], res)"
   ]
  },
  {
   "cell_type": "code",
   "execution_count": 16,
   "metadata": {
    "ExecuteTime": {
     "end_time": "2016-10-24T23:44:25.441868",
     "start_time": "2016-10-24T23:44:25.435108"
    },
    "collapsed": false,
    "run_control": {
     "frozen": false,
     "read_only": false
    }
   },
   "outputs": [
    {
     "data": {
      "text/plain": [
       "(0.028558754546234206, 0.024780137249735545)"
      ]
     },
     "execution_count": 16,
     "metadata": {},
     "output_type": "execute_result"
    }
   ],
   "source": [
    "w1, w2"
   ]
  },
  {
   "cell_type": "code",
   "execution_count": 17,
   "metadata": {
    "ExecuteTime": {
     "end_time": "2016-10-24T23:44:43.291257",
     "start_time": "2016-10-24T23:44:42.741713"
    },
    "collapsed": false,
    "scrolled": true
   },
   "outputs": [
    {
     "name": "stderr",
     "output_type": "stream",
     "text": [
      "  1%|█                                                                                                                                                              | 70/10000 [00:00<00:30, 324.09it/s]"
     ]
    },
    {
     "name": "stdout",
     "output_type": "stream",
     "text": [
      "0.0482739384539\n",
      "0.0350794046557\n",
      "0.026903330054\n",
      "0.0215936087286\n",
      "0.0178586914115\n",
      "0.0150685196187\n",
      "0.0128959691048\n",
      "0.0111551471299\n",
      "0.00973165622625\n",
      "0.00855037490412\n",
      "0.00755933435951\n",
      "0.00672104200518\n",
      "0.0060075097568\n",
      "0.00539724837012\n",
      "0.00487336574723\n",
      "0.00442231657194\n",
      "0.00403305335197\n",
      "0.00369643457089\n",
      "0.00340480317187\n",
      "0.00315168112772\n",
      "0.00293154487835\n",
      "0.0027396579129\n",
      "0.00257194398433\n",
      "0.00242488918482\n",
      "0.00229546440353\n",
      "0.00218106209911\n",
      "0.00207944314472\n",
      "0.00198869089109\n",
      "0.00190717062258\n",
      "0.0018334933066\n",
      "0.00176648301057\n",
      "0.00170514763936\n",
      "0.00164865278544\n",
      "0.00159629853332\n",
      "0.00154749906004\n",
      "0.00150176485206\n",
      "0.00145868733428\n",
      "0.00141792568818\n",
      "0.00137919562731\n",
      "0.00134225989904\n",
      "0.00130692029084\n",
      "0.00127301093415\n",
      "0.00124039271736\n",
      "0.00120894864003\n",
      "0.00117857996041\n",
      "0.00114920300826\n",
      "0.00112074655323\n",
      "0.00109314963521\n",
      "0.00106635977776\n",
      "0.00104033151856\n",
      "0.00101502520139\n",
      "0.000990405983647\n",
      "0.000966443021325\n",
      "0.0009431087997\n",
      "0.00092037858381\n",
      "0.000898229967166\n",
      "0.000876642501041\n",
      "0.000855597389823\n",
      "0.0008350772405\n",
      "0.000815065856491\n",
      "0.000795548067821\n",
      "0.000776509591046\n",
      "0.000757936913553\n",
      "0.000739817197838\n",
      "0.000722138202134\n",
      "0.000704888214447\n",
      "0.000688055997577\n",
      "0.000671630743153\n",
      "0.000655602033055\n",
      "0.000639959806901\n",
      "0.000624694334519\n",
      "0.000609796192514\n",
      "0.000595256244204\n",
      "0.000581065622337\n",
      "0.000567215714093\n",
      "0.000553698147986\n",
      "0.00054050478233\n",
      "0.00052762769501\n",
      "0.00051505917433\n",
      "0.000502791710778\n",
      "0.000490817989535\n",
      "0.000479130883629\n",
      "0.000467723447635\n",
      "0.000456588911818\n",
      "0.000445720676681\n",
      "0.000435112307845\n",
      "0.000424757531218\n",
      "0.000414650228427\n",
      "0.000404784432464\n",
      "0.000395154323536\n",
      "0.000385754225089\n",
      "0.000376578599996\n",
      "0.000367622046882\n",
      "0.000358879296586\n",
      "0.000350345208744\n",
      "0.000342014768481\n",
      "0.000333883083214\n",
      "0.000325945379542\n",
      "0.000318197000245\n",
      "0.000310633401353\n",
      "0.000303250149311\n",
      "0.000296042918217\n",
      "0.000289007487141\n",
      "0.000282139737506\n",
      "0.000275435650557\n",
      "0.000268891304878\n",
      "0.000262502873989\n",
      "0.000256266623998\n",
      "0.000250178911317\n",
      "0.000244236180435\n",
      "0.000238434961753\n",
      "0.000232771869465\n",
      "0.000227243599506\n",
      "0.00022184692754\n",
      "0.000216578707007\n",
      "0.000211435867216\n",
      "0.000206415411489\n",
      "0.000201514415345\n",
      "0.00019673002474\n"
     ]
    },
    {
     "name": "stderr",
     "output_type": "stream",
     "text": [
      "  2%|███▌                                                                                                                                                          | 225/10000 [00:00<00:22, 429.08it/s]"
     ]
    },
    {
     "name": "stdout",
     "output_type": "stream",
     "text": [
      "0.000192059454343\n",
      "0.000187499985859\n",
      "0.000183048966389\n",
      "0.000178703806844\n",
      "0.000174461980379\n",
      "0.000170321020886\n",
      "0.000166278521508\n",
      "0.000162332133202\n",
      "0.000158479563334\n",
      "0.000154718574302\n",
      "0.000151046982206\n",
      "0.000147462655541\n",
      "0.000143963513923\n",
      "0.000140547526857\n",
      "0.00013721271252\n",
      "0.000133957136584\n",
      "0.000130778911068\n",
      "0.000127676193214\n",
      "0.000124647184393\n",
      "0.00012169012904\n",
      "0.000118803313609\n",
      "0.000115985065561\n",
      "0.000113233752372\n",
      "0.00011054778057\n",
      "0.000107925594787\n",
      "0.000105365676845\n",
      "0.000102866544857\n",
      "0.000100426752352\n",
      "9.80448874244e-05\n",
      "9.5719571897e-05\n",
      "9.34494605129e-05\n",
      "9.1233240141e-05\n",
      "8.90696290044e-05\n",
      "8.69573759253e-05\n",
      "8.489525959e-05\n",
      "8.28820878306e-05\n",
      "8.09166969253e-05\n",
      "7.89979509146e-05\n",
      "7.7124740935e-05\n",
      "7.52959845685e-05\n",
      "7.35106252079e-05\n",
      "7.17676314377e-05\n",
      "7.00659964298e-05\n",
      "6.84047373539e-05\n",
      "6.67828948026e-05\n",
      "6.51995322296e-05\n",
      "6.36537354023e-05\n",
      "6.21446118675e-05\n",
      "6.06712904294e-05\n",
      "5.92329206409e-05\n",
      "5.78286723073e-05\n",
      "5.64577350012e-05\n",
      "5.51193175898e-05\n",
      "5.38126477735e-05\n",
      "5.25369716354e-05\n",
      "5.1291553202e-05\n",
      "5.00756740139e-05\n",
      "4.88886327078e-05\n",
      "4.77297446075e-05\n",
      "4.65983413254e-05\n",
      "4.5493770374e-05\n",
      "4.44153947853e-05\n",
      "4.33625927409e-05\n",
      "4.23347572101e-05\n",
      "4.13312955973e-05\n",
      "4.03516293969e-05\n",
      "3.93951938579e-05\n",
      "3.8461437655e-05\n",
      "3.75498225691e-05\n",
      "3.66598231742e-05\n",
      "3.57909265327e-05\n",
      "3.49426318974e-05\n",
      "3.41144504213e-05\n",
      "3.33059048735e-05\n",
      "3.25165293627e-05\n",
      "3.17458690669e-05\n",
      "3.09934799698e-05\n",
      "3.02589286033e-05\n",
      "2.95417917961e-05\n",
      "2.88416564289e-05\n",
      "2.81581191945e-05\n",
      "2.74907863648e-05\n",
      "2.6839273562e-05\n",
      "2.6203205537e-05\n",
      "2.55822159511e-05\n",
      "2.49759471647e-05\n",
      "2.43840500297e-05\n",
      "2.38061836882e-05\n",
      "2.32420153744e-05\n",
      "2.26912202228e-05\n",
      "2.21534810799e-05\n",
      "2.16284883208e-05\n",
      "2.11159396704e-05\n",
      "2.06155400281e-05\n",
      "2.0127001298e-05\n",
      "1.96500422216e-05\n",
      "1.91843882155e-05\n",
      "1.87297712129e-05\n",
      "1.82859295085e-05\n",
      "1.78526076073e-05\n",
      "1.74295560771e-05\n",
      "1.70165314043e-05\n",
      "1.66132958534e-05\n",
      "1.62196173295e-05\n",
      "1.58352692444e-05\n",
      "1.5460030386e-05\n",
      "1.509368479e-05\n",
      "1.47360216157e-05\n",
      "1.43868350243e-05\n",
      "1.40459240599e-05\n",
      "1.37130925334e-05\n",
      "1.33881489096e-05\n",
      "1.30709061968e-05\n",
      "1.27611818382e-05\n",
      "1.24587976073e-05\n",
      "1.21635795049e-05\n",
      "1.18753576585e-05\n",
      "1.15939662245e-05\n",
      "1.13192432925e-05\n",
      "1.10510307922e-05\n",
      "1.07891744016e-05\n",
      "1.05335234588e-05\n",
      "1.02839308745e-05\n",
      "1.00402530474e-05\n"
     ]
    },
    {
     "name": "stderr",
     "output_type": "stream",
     "text": [
      "\n"
     ]
    },
    {
     "data": {
      "text/plain": [
       "(0.28781162047177644, 0.091983302159254363)"
      ]
     },
     "execution_count": 17,
     "metadata": {},
     "output_type": "execute_result"
    }
   ],
   "source": [
    "w1_, w2_ = gd(df, C=0, k=0.1, r=10000)\n",
    "w1_, w2_"
   ]
  },
  {
   "cell_type": "code",
   "execution_count": 18,
   "metadata": {
    "ExecuteTime": {
     "end_time": "2016-10-24T23:44:59.227756",
     "start_time": "2016-10-24T23:44:59.196899"
    },
    "collapsed": true
   },
   "outputs": [],
   "source": [
    "res_noreg = [f(w1_, w2_, x['x1'], x['x2'], 1) for _, x in df.iterrows()]"
   ]
  },
  {
   "cell_type": "code",
   "execution_count": 19,
   "metadata": {
    "ExecuteTime": {
     "end_time": "2016-10-24T23:44:59.801746",
     "start_time": "2016-10-24T23:44:59.794746"
    },
    "collapsed": false
   },
   "outputs": [
    {
     "data": {
      "text/plain": [
       "0.92685714285714282"
      ]
     },
     "execution_count": 19,
     "metadata": {},
     "output_type": "execute_result"
    }
   ],
   "source": [
    "roc_auc_score(df['y'], res_noreg)"
   ]
  },
  {
   "cell_type": "code",
   "execution_count": 20,
   "metadata": {
    "ExecuteTime": {
     "end_time": "2016-10-24T23:45:00.858435",
     "start_time": "2016-10-24T23:45:00.850727"
    },
    "collapsed": false
   },
   "outputs": [],
   "source": [
    "with open('a2.txt', 'w') as fd:\n",
    "    fd.write('{:.3f} {:.3f}'.format(roc_auc_score(df['y'], res_noreg), roc_auc_score(df['y'], res)))"
   ]
  },
  {
   "cell_type": "code",
   "execution_count": 21,
   "metadata": {
    "ExecuteTime": {
     "end_time": "2016-10-24T23:45:01.559436",
     "start_time": "2016-10-24T23:45:01.442342"
    },
    "collapsed": false
   },
   "outputs": [
    {
     "name": "stdout",
     "output_type": "stream",
     "text": [
      "0.927 0.936"
     ]
    }
   ],
   "source": [
    "!cat a2.txt"
   ]
  },
  {
   "cell_type": "code",
   "execution_count": null,
   "metadata": {
    "collapsed": true
   },
   "outputs": [],
   "source": []
  }
 ],
 "metadata": {
  "hide_input": false,
  "kernelspec": {
   "display_name": "Python 3",
   "language": "python",
   "name": "python3"
  },
  "language_info": {
   "codemirror_mode": {
    "name": "ipython",
    "version": 3
   },
   "file_extension": ".py",
   "mimetype": "text/x-python",
   "name": "python",
   "nbconvert_exporter": "python",
   "pygments_lexer": "ipython3",
   "version": "3.4.3"
  },
  "toc": {
   "toc_cell": false,
   "toc_number_sections": true,
   "toc_threshold": 6,
   "toc_window_display": false
  },
  "widgets": {
   "state": {},
   "version": "1.1.2"
  }
 },
 "nbformat": 4,
 "nbformat_minor": 1
}
