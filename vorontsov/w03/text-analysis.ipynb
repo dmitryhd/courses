{
 "cells": [
  {
   "cell_type": "code",
   "execution_count": 3,
   "metadata": {
    "ExecuteTime": {
     "end_time": "2016-10-14T23:44:20.425976",
     "start_time": "2016-10-14T23:44:20.418587"
    },
    "collapsed": false,
    "run_control": {
     "frozen": false,
     "read_only": false
    }
   },
   "outputs": [],
   "source": [
    "import numpy as np\n",
    "import sklearn.svm\n",
    "from sklearn import datasets\n",
    "from sklearn.feature_extraction.text import TfidfVectorizer\n",
    "from sklearn.model_selection import KFold, GridSearchCV"
   ]
  },
  {
   "cell_type": "code",
   "execution_count": 87,
   "metadata": {
    "ExecuteTime": {
     "end_time": "2016-10-15T00:05:20.672535",
     "start_time": "2016-10-15T00:05:20.666221"
    },
    "collapsed": false
   },
   "outputs": [
    {
     "name": "stdout",
     "output_type": "stream",
     "text": [
      "0.18\n"
     ]
    }
   ],
   "source": [
    "print(sklearn.__version__)"
   ]
  },
  {
   "cell_type": "code",
   "execution_count": 4,
   "metadata": {
    "ExecuteTime": {
     "end_time": "2016-10-14T23:44:21.565369",
     "start_time": "2016-10-14T23:44:21.280083"
    },
    "collapsed": false,
    "run_control": {
     "frozen": false,
     "read_only": false
    }
   },
   "outputs": [],
   "source": [
    "newsgroups = datasets.fetch_20newsgroups(\n",
    "    subset='all', \n",
    "    categories=['alt.atheism', 'sci.space']\n",
    ")"
   ]
  },
  {
   "cell_type": "code",
   "execution_count": 5,
   "metadata": {
    "ExecuteTime": {
     "end_time": "2016-10-14T23:44:22.006705",
     "start_time": "2016-10-14T23:44:21.991733"
    },
    "collapsed": false,
    "run_control": {
     "frozen": false,
     "read_only": false
    }
   },
   "outputs": [
    {
     "data": {
      "text/plain": [
       "array([0, 0, 1, ..., 1, 1, 0])"
      ]
     },
     "execution_count": 5,
     "metadata": {},
     "output_type": "execute_result"
    }
   ],
   "source": [
    "newsgroups.target"
   ]
  },
  {
   "cell_type": "code",
   "execution_count": 7,
   "metadata": {
    "ExecuteTime": {
     "end_time": "2016-10-14T23:44:22.841808",
     "start_time": "2016-10-14T23:44:22.839075"
    },
    "collapsed": true,
    "run_control": {
     "frozen": false,
     "read_only": false
    }
   },
   "outputs": [],
   "source": [
    "tvect = TfidfVectorizer()\n",
    "\n",
    "data = tvect.fit_transform(newsgroups.data)"
   ]
  },
  {
   "cell_type": "code",
   "execution_count": 10,
   "metadata": {
    "ExecuteTime": {
     "end_time": "2016-10-14T23:44:25.315397",
     "start_time": "2016-10-14T23:44:25.311789"
    },
    "collapsed": true,
    "run_control": {
     "frozen": false,
     "read_only": false
    }
   },
   "outputs": [],
   "source": [
    "X, y = data, newsgroups.target"
   ]
  },
  {
   "cell_type": "markdown",
   "metadata": {},
   "source": [
    "# Classificator"
   ]
  },
  {
   "cell_type": "code",
   "execution_count": 16,
   "metadata": {
    "ExecuteTime": {
     "end_time": "2016-10-14T23:46:25.830316",
     "start_time": "2016-10-14T23:46:25.825835"
    },
    "collapsed": false,
    "run_control": {
     "frozen": false,
     "read_only": false
    }
   },
   "outputs": [],
   "source": [
    "clf = sklearn.svm.SVC(kernel='linear', random_state=241)"
   ]
  },
  {
   "cell_type": "code",
   "execution_count": 17,
   "metadata": {
    "ExecuteTime": {
     "end_time": "2016-10-14T23:46:26.186331",
     "start_time": "2016-10-14T23:46:26.182696"
    },
    "collapsed": false,
    "run_control": {
     "frozen": false,
     "read_only": false
    }
   },
   "outputs": [],
   "source": [
    "grid = {'C': np.power(10.0, np.arange(-5, 6))}\n",
    "cv = KFold(n_splits=5, shuffle=True, random_state=241)"
   ]
  },
  {
   "cell_type": "code",
   "execution_count": 18,
   "metadata": {
    "ExecuteTime": {
     "end_time": "2016-10-14T23:46:26.596206",
     "start_time": "2016-10-14T23:46:26.592405"
    },
    "collapsed": false,
    "run_control": {
     "frozen": false,
     "read_only": false
    }
   },
   "outputs": [],
   "source": [
    "gs = GridSearchCV(clf, grid, scoring='accuracy', cv=cv)"
   ]
  },
  {
   "cell_type": "code",
   "execution_count": null,
   "metadata": {
    "ExecuteTime": {
     "start_time": "2016-10-14T20:46:38.855Z"
    },
    "collapsed": true,
    "run_control": {
     "frozen": false,
     "read_only": false
    }
   },
   "outputs": [],
   "source": [
    "gs.fit(X, y)"
   ]
  },
  {
   "cell_type": "code",
   "execution_count": 68,
   "metadata": {
    "ExecuteTime": {
     "end_time": "2016-10-14T23:59:48.163241",
     "start_time": "2016-10-14T23:59:48.156838"
    },
    "collapsed": false,
    "run_control": {
     "frozen": false,
     "read_only": false
    }
   },
   "outputs": [
    {
     "name": "stdout",
     "output_type": "stream",
     "text": [
      "0.552631578947 {'C': 1.0000000000000001e-05}\n",
      "0.552631578947 {'C': 0.0001}\n",
      "0.552631578947 {'C': 0.001}\n",
      "0.552631578947 {'C': 0.01}\n",
      "0.950167973124 {'C': 0.10000000000000001}\n",
      "0.993281075028 {'C': 1.0}\n",
      "0.993281075028 {'C': 10.0}\n",
      "0.993281075028 {'C': 100.0}\n",
      "0.993281075028 {'C': 1000.0}\n",
      "0.993281075028 {'C': 10000.0}\n",
      "0.993281075028 {'C': 100000.0}\n"
     ]
    },
    {
     "name": "stderr",
     "output_type": "stream",
     "text": [
      "/home/dkhodakov/.local/lib/python3.4/site-packages/sklearn/model_selection/_search.py:662: DeprecationWarning: The grid_scores_ attribute was deprecated in version 0.18 in favor of the more elaborate cv_results_ attribute. The grid_scores_ attribute will not be available from 0.20\n",
      "  DeprecationWarning)\n"
     ]
    }
   ],
   "source": [
    "for a in gs.grid_scores_:\n",
    "    print(a.mean_validation_score, a.parameters)\n",
    "    # a.mean_validation_score — оценка качества по кросс-валидации\n",
    "    # a.parameters — значения параметров"
   ]
  },
  {
   "cell_type": "markdown",
   "metadata": {},
   "source": [
    "# omg"
   ]
  },
  {
   "cell_type": "code",
   "execution_count": 117,
   "metadata": {
    "ExecuteTime": {
     "end_time": "2016-10-15T00:17:41.262347",
     "start_time": "2016-10-15T00:17:41.258881"
    },
    "collapsed": true
   },
   "outputs": [],
   "source": [
    "C = 1.0"
   ]
  },
  {
   "cell_type": "code",
   "execution_count": 118,
   "metadata": {
    "ExecuteTime": {
     "end_time": "2016-10-15T00:17:42.254258",
     "start_time": "2016-10-15T00:17:42.250433"
    },
    "collapsed": true
   },
   "outputs": [],
   "source": [
    "clf_final = sklearn.svm.SVC(kernel='linear', random_state=241, C=C)"
   ]
  },
  {
   "cell_type": "code",
   "execution_count": 120,
   "metadata": {
    "ExecuteTime": {
     "end_time": "2016-10-15T00:17:49.382391",
     "start_time": "2016-10-15T00:17:47.821221"
    },
    "collapsed": false
   },
   "outputs": [
    {
     "data": {
      "text/plain": [
       "SVC(C=1.0, cache_size=200, class_weight=None, coef0=0.0,\n",
       "  decision_function_shape=None, degree=3, gamma='auto', kernel='linear',\n",
       "  max_iter=-1, probability=False, random_state=241, shrinking=True,\n",
       "  tol=0.001, verbose=False)"
      ]
     },
     "execution_count": 120,
     "metadata": {},
     "output_type": "execute_result"
    }
   ],
   "source": [
    "clf_final.fit(X, y)"
   ]
  },
  {
   "cell_type": "code",
   "execution_count": 121,
   "metadata": {
    "ExecuteTime": {
     "end_time": "2016-10-15T00:17:50.184691",
     "start_time": "2016-10-15T00:17:50.178885"
    },
    "collapsed": false
   },
   "outputs": [],
   "source": [
    "coefs = clf_final.coef_ "
   ]
  },
  {
   "cell_type": "code",
   "execution_count": 122,
   "metadata": {
    "ExecuteTime": {
     "end_time": "2016-10-15T00:17:50.897668",
     "start_time": "2016-10-15T00:17:50.857906"
    },
    "collapsed": false
   },
   "outputs": [],
   "source": [
    "feature_mapping = tvect.get_feature_names()"
   ]
  },
  {
   "cell_type": "code",
   "execution_count": 123,
   "metadata": {
    "ExecuteTime": {
     "end_time": "2016-10-15T00:17:51.854907",
     "start_time": "2016-10-15T00:17:51.850516"
    },
    "collapsed": false
   },
   "outputs": [],
   "source": [
    "weights = np.abs(coefs.toarray()[0])"
   ]
  },
  {
   "cell_type": "code",
   "execution_count": 124,
   "metadata": {
    "ExecuteTime": {
     "end_time": "2016-10-15T00:17:53.426392",
     "start_time": "2016-10-15T00:17:53.418439"
    },
    "collapsed": false
   },
   "outputs": [],
   "source": [
    "top_indices = np.argsort(-weights)[:10]"
   ]
  },
  {
   "cell_type": "code",
   "execution_count": 125,
   "metadata": {
    "ExecuteTime": {
     "end_time": "2016-10-15T00:17:54.935177",
     "start_time": "2016-10-15T00:17:54.930675"
    },
    "collapsed": true
   },
   "outputs": [],
   "source": [
    "coefs_lin = coefs.toarray()[0]"
   ]
  },
  {
   "cell_type": "code",
   "execution_count": 126,
   "metadata": {
    "ExecuteTime": {
     "end_time": "2016-10-15T00:17:55.952661",
     "start_time": "2016-10-15T00:17:55.946854"
    },
    "collapsed": false
   },
   "outputs": [
    {
     "data": {
      "text/plain": [
       "array([24019, 12871,  5088,  5093, 17802, 23673, 21850,  5776, 15606, 22936])"
      ]
     },
     "execution_count": 126,
     "metadata": {},
     "output_type": "execute_result"
    }
   ],
   "source": [
    "top_indices"
   ]
  },
  {
   "cell_type": "code",
   "execution_count": 127,
   "metadata": {
    "ExecuteTime": {
     "end_time": "2016-10-15T00:17:57.008674",
     "start_time": "2016-10-15T00:17:57.003152"
    },
    "collapsed": false
   },
   "outputs": [
    {
     "name": "stdout",
     "output_type": "stream",
     "text": [
      "2.66316478848 space\n",
      "1.92037940023 god\n",
      "1.25468995124 atheism\n",
      "1.24918000738 atheists\n",
      "1.20161118175 moon\n",
      "1.18013159514 sky\n",
      "1.1390808379 religion\n",
      "1.13061234466 bible\n",
      "1.09709364664 keith\n",
      "1.02930692719 sci\n"
     ]
    }
   ],
   "source": [
    "for i in top_indices:\n",
    "    print(weights[i], feature_mapping[i])"
   ]
  },
  {
   "cell_type": "code",
   "execution_count": 128,
   "metadata": {
    "ExecuteTime": {
     "end_time": "2016-10-15T00:18:00.629884",
     "start_time": "2016-10-15T00:18:00.626453"
    },
    "collapsed": false
   },
   "outputs": [],
   "source": [
    "words = sorted([feature_mapping[i] for i in top_indices])"
   ]
  },
  {
   "cell_type": "code",
   "execution_count": 129,
   "metadata": {
    "ExecuteTime": {
     "end_time": "2016-10-15T00:18:01.148254",
     "start_time": "2016-10-15T00:18:01.145176"
    },
    "collapsed": false
   },
   "outputs": [
    {
     "name": "stdout",
     "output_type": "stream",
     "text": [
      "['atheism', 'atheists', 'bible', 'god', 'keith', 'moon', 'religion', 'sci', 'sky', 'space']\n"
     ]
    }
   ],
   "source": [
    "print(words)"
   ]
  },
  {
   "cell_type": "code",
   "execution_count": 130,
   "metadata": {
    "ExecuteTime": {
     "end_time": "2016-10-15T00:18:03.783644",
     "start_time": "2016-10-15T00:18:03.778301"
    },
    "collapsed": false
   },
   "outputs": [
    {
     "name": "stdout",
     "output_type": "stream",
     "text": [
      "atheism atheists bible god keith moon religion sci sky space\n"
     ]
    }
   ],
   "source": [
    "with open('a2.txt', 'w') as fd:\n",
    "    print(' '.join(words))\n",
    "    fd.write(' '.join(words))"
   ]
  },
  {
   "cell_type": "code",
   "execution_count": null,
   "metadata": {
    "collapsed": true
   },
   "outputs": [],
   "source": []
  }
 ],
 "metadata": {
  "hide_input": false,
  "kernelspec": {
   "display_name": "Python 3",
   "language": "python",
   "name": "python3"
  },
  "language_info": {
   "codemirror_mode": {
    "name": "ipython",
    "version": 3
   },
   "file_extension": ".py",
   "mimetype": "text/x-python",
   "name": "python",
   "nbconvert_exporter": "python",
   "pygments_lexer": "ipython3",
   "version": "3.4.3"
  },
  "toc": {
   "toc_cell": false,
   "toc_number_sections": true,
   "toc_threshold": 6,
   "toc_window_display": false
  }
 },
 "nbformat": 4,
 "nbformat_minor": 1
}
