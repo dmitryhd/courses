{
 "cells": [
  {
   "cell_type": "markdown",
   "metadata": {},
   "source": [
    "# Отчет"
   ]
  },
  {
   "cell_type": "markdown",
   "metadata": {},
   "source": [
    "## Подход 1: градиентный бустинг \"в лоб\"\n",
    "\n",
    "**1. Какие признаки имеют пропуски среди своих значений? Что могут означать пропуски в этих признаках (ответьте на этот вопрос для двух любых признаков)?**\n",
    "\n",
    "```python\n",
    "['first_blood_time',\n",
    " 'first_blood_team',\n",
    " 'first_blood_player1',\n",
    " 'first_blood_player2',\n",
    " 'radiant_bottle_time',\n",
    " 'radiant_courier_time',\n",
    " 'radiant_flying_courier_time',\n",
    " 'radiant_first_ward_time',\n",
    " 'dire_bottle_time',\n",
    " 'dire_courier_time',\n",
    " 'dire_flying_courier_time',\n",
    " 'dire_first_ward_time']\n",
    "```\n",
    "В первые 5 минут матча может не произойти события взятия первой крови: \n",
    "```python\n",
    "['first_blood_time',\n",
    " 'first_blood_team',\n",
    " 'first_blood_player1',\n",
    " 'first_blood_player2',]\n",
    "```\n",
    "То же с ward_time.\n",
    "\n",
    "**2. Как называется столбец, содержащий целевую переменную?**\n",
    "```python\n",
    "'radiant_win'\n",
    "```\n",
    "\n",
    "**3. Как долго проводилась кросс-валидация для градиентного бустинга с 30 деревьями? Инструкцию по измерению времени можно найти ниже по тексту. Какое качество при этом получилось? **\n",
    "\n",
    "train time = **98s**\n",
    "\n",
    "AUC-ROC = **0.694529**\n",
    "\n",
    "**4. Имеет ли смысл использовать больше 30 деревьев в градиентном бустинге? Что бы вы предложили делать, чтобы ускорить его обучение при увеличении количества деревьев? **\n",
    "\n",
    "Имеет, есть рост качества (см. n_estimators = 40). \n",
    "Чтобы ускорить обучения при увеличении количества деревьев можно можно уменьшить глубину деревьев."
   ]
  },
  {
   "cell_type": "markdown",
   "metadata": {},
   "source": [
    "## Подход 2: логистическая регрессия\n",
    "\n",
    "**1. Какое качество получилось у логистической регрессии над всеми исходными признаками? Как оно соотносится с качеством градиентного бустинга? Чем вы можете объяснить эту разницу? Быстрее ли работает логистическая регрессия по сравнению с градиентным бустингом?**\n",
    "\n",
    "train time = **11s**\n",
    "\n",
    "AUC-ROC = **0.716500** (над всеми исходными признаками) (Выше, чем у град. бустинга)\n",
    "\n",
    "Логистическая регрессия требует различных предобработок и эвристик чтобы показать приемлемые результаты.\n",
    "Логистическая регрессия по сравнению с градиентным бустингом работает быстрее.\n",
    "\n",
    "**2. Как влияет на качество логистической регрессии удаление категориальных признаков (укажите новое значение метрики качества)? Чем вы можете объяснить это изменение?**\n",
    "\n",
    "AUC-ROC = **0.716527** (без категориальных)\n",
    "\n",
    "Для категориальных признаков в лог. регрессии нужна обработка (bags) т.к. их нельзя сравнивать между собой. Если обработка не используется (1 пункт.) то метод работает чуть лучше без этих параметров.\n",
    "\n",
    "**3. Сколько различных идентификаторов героев существует в данной игре?**\n",
    "\n",
    "108 идентификаторов\n",
    "\n",
    "**4. Какое получилось качество при добавлении \"мешка слов\" по героям? Улучшилось ли оно по сравнению с предыдущим вариантом? Чем вы можете это объяснить?**\n",
    "\n",
    "AUC-ROC = **0.752013** (с правильной обработкой кат. признаков)\n",
    "\n",
    "Кач-во сильно улучшилось, т.к. начальный выбор героев сильно влияет на исход игры, нужно лишь правильно обработать эти данные.\n",
    "\n",
    "**5. Какое минимальное и максимальное значение прогноза на тестовой выборке получилось у лучшего из алгоритмов?**\n",
    "\n",
    "Лучший алгоритм -- *linear regression, c=0.1, bag of words(cat features)*\n",
    "\n",
    "min_pred = 0.0084676402042699675\n",
    "\n",
    "max_pred = 0.99657066046098575"
   ]
  },
  {
   "cell_type": "code",
   "execution_count": 222,
   "metadata": {
    "ExecuteTime": {
     "end_time": "2016-11-20T23:11:00.105086",
     "start_time": "2016-11-20T23:11:00.096154"
    },
    "collapsed": false,
    "run_control": {
     "frozen": false,
     "read_only": false
    }
   },
   "outputs": [
    {
     "name": "stdout",
     "output_type": "stream",
     "text": [
      "python  v=3 \n",
      "pandas  v=0.18.1 \n",
      "sklearn v=0.18\n"
     ]
    }
   ],
   "source": [
    "import pandas as pd\n",
    "import numpy as np\n",
    "import sklearn\n",
    "\n",
    "print('python  v={} \\npandas  v={} \\nsklearn v={}'.format(3, pd.__version__, sklearn.__version__))"
   ]
  },
  {
   "cell_type": "markdown",
   "metadata": {},
   "source": [
    "# Data preparation"
   ]
  },
  {
   "cell_type": "code",
   "execution_count": 2,
   "metadata": {
    "ExecuteTime": {
     "end_time": "2016-11-20T14:51:52.345272",
     "start_time": "2016-11-20T14:51:51.495902"
    },
    "collapsed": true
   },
   "outputs": [],
   "source": [
    "features = pd.read_csv('features.csv')"
   ]
  },
  {
   "cell_type": "code",
   "execution_count": 6,
   "metadata": {
    "ExecuteTime": {
     "end_time": "2016-11-20T14:57:53.530971",
     "start_time": "2016-11-20T14:57:53.525180"
    },
    "collapsed": true
   },
   "outputs": [],
   "source": [
    "drop_features = ['duration', 'radiant_win', 'tower_status_radiant', 'tower_status_dire', 'barracks_status_radiant', 'barracks_status_dire']"
   ]
  },
  {
   "cell_type": "code",
   "execution_count": 9,
   "metadata": {
    "ExecuteTime": {
     "end_time": "2016-11-20T14:58:09.316545",
     "start_time": "2016-11-20T14:58:09.289528"
    },
    "collapsed": false
   },
   "outputs": [],
   "source": [
    "test_features = features.drop(drop_features, axis=1)"
   ]
  },
  {
   "cell_type": "code",
   "execution_count": 10,
   "metadata": {
    "ExecuteTime": {
     "end_time": "2016-11-20T14:58:16.573214",
     "start_time": "2016-11-20T14:58:16.524885"
    },
    "collapsed": false
   },
   "outputs": [
    {
     "data": {
      "text/html": [
       "<div>\n",
       "<table border=\"1\" class=\"dataframe\">\n",
       "  <thead>\n",
       "    <tr style=\"text-align: right;\">\n",
       "      <th></th>\n",
       "      <th>match_id</th>\n",
       "      <th>start_time</th>\n",
       "      <th>lobby_type</th>\n",
       "      <th>r1_hero</th>\n",
       "      <th>r1_level</th>\n",
       "      <th>r1_xp</th>\n",
       "      <th>r1_gold</th>\n",
       "      <th>r1_lh</th>\n",
       "      <th>r1_kills</th>\n",
       "      <th>r1_deaths</th>\n",
       "      <th>...</th>\n",
       "      <th>radiant_ward_sentry_count</th>\n",
       "      <th>radiant_first_ward_time</th>\n",
       "      <th>dire_bottle_time</th>\n",
       "      <th>dire_courier_time</th>\n",
       "      <th>dire_flying_courier_time</th>\n",
       "      <th>dire_tpscroll_count</th>\n",
       "      <th>dire_boots_count</th>\n",
       "      <th>dire_ward_observer_count</th>\n",
       "      <th>dire_ward_sentry_count</th>\n",
       "      <th>dire_first_ward_time</th>\n",
       "    </tr>\n",
       "  </thead>\n",
       "  <tbody>\n",
       "    <tr>\n",
       "      <th>0</th>\n",
       "      <td>0</td>\n",
       "      <td>1430198770</td>\n",
       "      <td>7</td>\n",
       "      <td>11</td>\n",
       "      <td>5</td>\n",
       "      <td>2098</td>\n",
       "      <td>1489</td>\n",
       "      <td>20</td>\n",
       "      <td>0</td>\n",
       "      <td>0</td>\n",
       "      <td>...</td>\n",
       "      <td>0</td>\n",
       "      <td>35.0</td>\n",
       "      <td>103.0</td>\n",
       "      <td>-84.0</td>\n",
       "      <td>221.0</td>\n",
       "      <td>3</td>\n",
       "      <td>4</td>\n",
       "      <td>2</td>\n",
       "      <td>2</td>\n",
       "      <td>-52.0</td>\n",
       "    </tr>\n",
       "    <tr>\n",
       "      <th>1</th>\n",
       "      <td>1</td>\n",
       "      <td>1430220345</td>\n",
       "      <td>0</td>\n",
       "      <td>42</td>\n",
       "      <td>4</td>\n",
       "      <td>1188</td>\n",
       "      <td>1033</td>\n",
       "      <td>9</td>\n",
       "      <td>0</td>\n",
       "      <td>1</td>\n",
       "      <td>...</td>\n",
       "      <td>0</td>\n",
       "      <td>-20.0</td>\n",
       "      <td>149.0</td>\n",
       "      <td>-84.0</td>\n",
       "      <td>195.0</td>\n",
       "      <td>5</td>\n",
       "      <td>4</td>\n",
       "      <td>3</td>\n",
       "      <td>1</td>\n",
       "      <td>-5.0</td>\n",
       "    </tr>\n",
       "    <tr>\n",
       "      <th>2</th>\n",
       "      <td>2</td>\n",
       "      <td>1430227081</td>\n",
       "      <td>7</td>\n",
       "      <td>33</td>\n",
       "      <td>4</td>\n",
       "      <td>1319</td>\n",
       "      <td>1270</td>\n",
       "      <td>22</td>\n",
       "      <td>0</td>\n",
       "      <td>0</td>\n",
       "      <td>...</td>\n",
       "      <td>1</td>\n",
       "      <td>-39.0</td>\n",
       "      <td>45.0</td>\n",
       "      <td>-77.0</td>\n",
       "      <td>221.0</td>\n",
       "      <td>3</td>\n",
       "      <td>4</td>\n",
       "      <td>3</td>\n",
       "      <td>1</td>\n",
       "      <td>13.0</td>\n",
       "    </tr>\n",
       "    <tr>\n",
       "      <th>3</th>\n",
       "      <td>3</td>\n",
       "      <td>1430263531</td>\n",
       "      <td>1</td>\n",
       "      <td>29</td>\n",
       "      <td>4</td>\n",
       "      <td>1779</td>\n",
       "      <td>1056</td>\n",
       "      <td>14</td>\n",
       "      <td>0</td>\n",
       "      <td>0</td>\n",
       "      <td>...</td>\n",
       "      <td>0</td>\n",
       "      <td>-30.0</td>\n",
       "      <td>124.0</td>\n",
       "      <td>-80.0</td>\n",
       "      <td>184.0</td>\n",
       "      <td>0</td>\n",
       "      <td>4</td>\n",
       "      <td>2</td>\n",
       "      <td>0</td>\n",
       "      <td>27.0</td>\n",
       "    </tr>\n",
       "    <tr>\n",
       "      <th>4</th>\n",
       "      <td>4</td>\n",
       "      <td>1430282290</td>\n",
       "      <td>7</td>\n",
       "      <td>13</td>\n",
       "      <td>4</td>\n",
       "      <td>1431</td>\n",
       "      <td>1090</td>\n",
       "      <td>8</td>\n",
       "      <td>1</td>\n",
       "      <td>0</td>\n",
       "      <td>...</td>\n",
       "      <td>0</td>\n",
       "      <td>46.0</td>\n",
       "      <td>182.0</td>\n",
       "      <td>-80.0</td>\n",
       "      <td>225.0</td>\n",
       "      <td>6</td>\n",
       "      <td>3</td>\n",
       "      <td>3</td>\n",
       "      <td>0</td>\n",
       "      <td>-16.0</td>\n",
       "    </tr>\n",
       "  </tbody>\n",
       "</table>\n",
       "<p>5 rows × 103 columns</p>\n",
       "</div>"
      ],
      "text/plain": [
       "   match_id  start_time  lobby_type  r1_hero  r1_level  r1_xp  r1_gold  r1_lh  \\\n",
       "0         0  1430198770           7       11         5   2098     1489     20   \n",
       "1         1  1430220345           0       42         4   1188     1033      9   \n",
       "2         2  1430227081           7       33         4   1319     1270     22   \n",
       "3         3  1430263531           1       29         4   1779     1056     14   \n",
       "4         4  1430282290           7       13         4   1431     1090      8   \n",
       "\n",
       "   r1_kills  r1_deaths          ...           radiant_ward_sentry_count  \\\n",
       "0         0          0          ...                                   0   \n",
       "1         0          1          ...                                   0   \n",
       "2         0          0          ...                                   1   \n",
       "3         0          0          ...                                   0   \n",
       "4         1          0          ...                                   0   \n",
       "\n",
       "   radiant_first_ward_time  dire_bottle_time  dire_courier_time  \\\n",
       "0                     35.0             103.0              -84.0   \n",
       "1                    -20.0             149.0              -84.0   \n",
       "2                    -39.0              45.0              -77.0   \n",
       "3                    -30.0             124.0              -80.0   \n",
       "4                     46.0             182.0              -80.0   \n",
       "\n",
       "   dire_flying_courier_time  dire_tpscroll_count  dire_boots_count  \\\n",
       "0                     221.0                    3                 4   \n",
       "1                     195.0                    5                 4   \n",
       "2                     221.0                    3                 4   \n",
       "3                     184.0                    0                 4   \n",
       "4                     225.0                    6                 3   \n",
       "\n",
       "   dire_ward_observer_count  dire_ward_sentry_count  dire_first_ward_time  \n",
       "0                         2                       2                 -52.0  \n",
       "1                         3                       1                  -5.0  \n",
       "2                         3                       1                  13.0  \n",
       "3                         2                       0                  27.0  \n",
       "4                         3                       0                 -16.0  \n",
       "\n",
       "[5 rows x 103 columns]"
      ]
     },
     "execution_count": 10,
     "metadata": {},
     "output_type": "execute_result"
    }
   ],
   "source": [
    "test_features.head()"
   ]
  },
  {
   "cell_type": "code",
   "execution_count": 12,
   "metadata": {
    "ExecuteTime": {
     "end_time": "2016-11-20T14:59:31.380308",
     "start_time": "2016-11-20T14:59:31.180731"
    },
    "collapsed": false
   },
   "outputs": [],
   "source": [
    "counters = test_features.count()"
   ]
  },
  {
   "cell_type": "code",
   "execution_count": 104,
   "metadata": {
    "ExecuteTime": {
     "end_time": "2016-11-20T16:04:39.306543",
     "start_time": "2016-11-20T16:04:39.298837"
    },
    "collapsed": false
   },
   "outputs": [
    {
     "data": {
      "text/plain": [
       "['first_blood_time',\n",
       " 'first_blood_team',\n",
       " 'first_blood_player1',\n",
       " 'first_blood_player2',\n",
       " 'radiant_bottle_time',\n",
       " 'radiant_courier_time',\n",
       " 'radiant_flying_courier_time',\n",
       " 'radiant_first_ward_time',\n",
       " 'dire_bottle_time',\n",
       " 'dire_courier_time',\n",
       " 'dire_flying_courier_time',\n",
       " 'dire_first_ward_time']"
      ]
     },
     "execution_count": 104,
     "metadata": {},
     "output_type": "execute_result"
    }
   ],
   "source": [
    "counters[counters < 97230].index.tolist()"
   ]
  },
  {
   "cell_type": "code",
   "execution_count": 17,
   "metadata": {
    "ExecuteTime": {
     "end_time": "2016-11-20T15:01:10.163286",
     "start_time": "2016-11-20T15:01:10.123225"
    },
    "collapsed": false
   },
   "outputs": [],
   "source": [
    "test_features = test_features.fillna(0)"
   ]
  },
  {
   "cell_type": "code",
   "execution_count": 20,
   "metadata": {
    "ExecuteTime": {
     "end_time": "2016-11-20T15:03:17.071704",
     "start_time": "2016-11-20T15:03:17.067305"
    },
    "collapsed": true
   },
   "outputs": [],
   "source": [
    "y = features['radiant_win']"
   ]
  },
  {
   "cell_type": "markdown",
   "metadata": {
    "ExecuteTime": {
     "end_time": "2016-11-20T15:47:25.405049",
     "start_time": "2016-11-20T15:47:25.401537"
    }
   },
   "source": [
    "# GradientBoostingClassifier"
   ]
  },
  {
   "cell_type": "code",
   "execution_count": 135,
   "metadata": {
    "ExecuteTime": {
     "end_time": "2016-11-20T22:21:40.385125",
     "start_time": "2016-11-20T22:21:40.380646"
    },
    "collapsed": true
   },
   "outputs": [],
   "source": [
    "from sklearn.ensemble import GradientBoostingClassifier\n",
    "from sklearn.model_selection import KFold\n",
    "from sklearn.metrics import roc_auc_score"
   ]
  },
  {
   "cell_type": "code",
   "execution_count": 138,
   "metadata": {
    "ExecuteTime": {
     "end_time": "2016-11-20T22:22:54.081494",
     "start_time": "2016-11-20T22:22:54.041650"
    },
    "collapsed": false
   },
   "outputs": [
    {
     "data": {
      "text/plain": [
       "(97230, 103)"
      ]
     },
     "execution_count": 138,
     "metadata": {},
     "output_type": "execute_result"
    }
   ],
   "source": [
    "X = test_features.values\n",
    "X.shape"
   ]
  },
  {
   "cell_type": "code",
   "execution_count": 139,
   "metadata": {
    "ExecuteTime": {
     "end_time": "2016-11-20T22:22:54.812139",
     "start_time": "2016-11-20T22:22:54.809256"
    },
    "collapsed": true
   },
   "outputs": [],
   "source": [
    "import time"
   ]
  },
  {
   "cell_type": "code",
   "execution_count": 141,
   "metadata": {
    "ExecuteTime": {
     "end_time": "2016-11-20T22:28:34.918724",
     "start_time": "2016-11-20T22:24:25.367043"
    },
    "collapsed": false
   },
   "outputs": [
    {
     "name": "stdout",
     "output_type": "stream",
     "text": [
      "n trees = 10, cv in 26.75\n",
      "n trees = 20, cv in 50.42\n",
      "n trees = 30, cv in 73.94\n",
      "n trees = 40, cv in 98.42\n"
     ]
    }
   ],
   "source": [
    "kf = KFold(n_splits=5, shuffle=True)\n",
    "res = []\n",
    "for n_trees in [10, 20, 30, 40]:\n",
    "    btime = time.time()\n",
    "    for train_indices, test_indices in kf.split(X, y):\n",
    "        X_train, X_test = X[train_indices], X[test_indices]\n",
    "        y_train, y_test = y[train_indices], y[test_indices]\n",
    "\n",
    "        clf = GradientBoostingClassifier(n_estimators=n_trees)\n",
    "        clf.fit(X_train, y_train)\n",
    "\n",
    "        pred = clf.predict_proba(X_test)[:, 1]\n",
    "        score = roc_auc_score(y_test, pred)\n",
    "        res.append({'roc_auc': score, 'n_trees': n_trees})\n",
    "    print('n trees = {}, cv in {:.2f}'.format(n_trees, time.time() - btime))"
   ]
  },
  {
   "cell_type": "markdown",
   "metadata": {},
   "source": [
    "## Result"
   ]
  },
  {
   "cell_type": "code",
   "execution_count": 142,
   "metadata": {
    "ExecuteTime": {
     "end_time": "2016-11-20T22:28:34.930530",
     "start_time": "2016-11-20T22:28:34.920945"
    },
    "collapsed": false
   },
   "outputs": [
    {
     "data": {
      "text/html": [
       "<div>\n",
       "<table border=\"1\" class=\"dataframe\">\n",
       "  <thead>\n",
       "    <tr style=\"text-align: right;\">\n",
       "      <th></th>\n",
       "      <th>roc_auc</th>\n",
       "    </tr>\n",
       "    <tr>\n",
       "      <th>n_trees</th>\n",
       "      <th></th>\n",
       "    </tr>\n",
       "  </thead>\n",
       "  <tbody>\n",
       "    <tr>\n",
       "      <th>40</th>\n",
       "      <td>0.694529</td>\n",
       "    </tr>\n",
       "    <tr>\n",
       "      <th>30</th>\n",
       "      <td>0.690042</td>\n",
       "    </tr>\n",
       "    <tr>\n",
       "      <th>20</th>\n",
       "      <td>0.682059</td>\n",
       "    </tr>\n",
       "    <tr>\n",
       "      <th>10</th>\n",
       "      <td>0.663486</td>\n",
       "    </tr>\n",
       "  </tbody>\n",
       "</table>\n",
       "</div>"
      ],
      "text/plain": [
       "          roc_auc\n",
       "n_trees          \n",
       "40       0.694529\n",
       "30       0.690042\n",
       "20       0.682059\n",
       "10       0.663486"
      ]
     },
     "execution_count": 142,
     "metadata": {},
     "output_type": "execute_result"
    }
   ],
   "source": [
    "res_grad_boost = pd.DataFrame(res)\n",
    "res_grad_boost.groupby('n_trees').mean().sort_values('roc_auc', ascending=False)"
   ]
  },
  {
   "cell_type": "markdown",
   "metadata": {},
   "source": [
    "# linear model"
   ]
  },
  {
   "cell_type": "code",
   "execution_count": 37,
   "metadata": {
    "ExecuteTime": {
     "end_time": "2016-11-20T15:18:14.715163",
     "start_time": "2016-11-20T15:18:14.710028"
    },
    "collapsed": false
   },
   "outputs": [],
   "source": [
    "from sklearn.preprocessing import StandardScaler\n",
    "from sklearn.linear_model import LogisticRegression"
   ]
  },
  {
   "cell_type": "markdown",
   "metadata": {},
   "source": [
    "## Naive approach"
   ]
  },
  {
   "cell_type": "code",
   "execution_count": 143,
   "metadata": {
    "ExecuteTime": {
     "end_time": "2016-11-20T22:30:55.863139",
     "start_time": "2016-11-20T22:30:55.672438"
    },
    "collapsed": false
   },
   "outputs": [],
   "source": [
    "X = test_features.values\n",
    "scaler = StandardScaler()\n",
    "X_norm = scaler.fit_transform(X)"
   ]
  },
  {
   "cell_type": "code",
   "execution_count": 144,
   "metadata": {
    "ExecuteTime": {
     "end_time": "2016-11-20T22:30:55.868818",
     "start_time": "2016-11-20T22:30:55.864619"
    },
    "collapsed": false
   },
   "outputs": [
    {
     "data": {
      "text/plain": [
       "[1e-05, 0.0001, 0.001, 0.01, 0.1, 1, 10, 100]"
      ]
     },
     "execution_count": 144,
     "metadata": {},
     "output_type": "execute_result"
    }
   ],
   "source": [
    "c_range = [10**i for i in range(-5, 3)]\n",
    "c_range"
   ]
  },
  {
   "cell_type": "code",
   "execution_count": 145,
   "metadata": {
    "ExecuteTime": {
     "end_time": "2016-11-20T22:32:06.712865",
     "start_time": "2016-11-20T22:30:56.004125"
    },
    "collapsed": false
   },
   "outputs": [
    {
     "name": "stdout",
     "output_type": "stream",
     "text": [
      "c = 1e-05 cv in 2.46\n",
      "c = 0.0001 cv in 4.22\n",
      "c = 0.001 cv in 8.38\n",
      "c = 0.01 cv in 10.82\n",
      "c = 0.1 cv in 10.73\n",
      "c = 1 cv in 11.67\n",
      "c = 10 cv in 11.37\n",
      "c = 100 cv in 11.03\n"
     ]
    }
   ],
   "source": [
    "kf = KFold(n_splits=5, shuffle=True)\n",
    "\n",
    "res = []\n",
    "for c in c_range:\n",
    "    tbegin = time.time()\n",
    "    for train_indices, test_indices in kf.split(X, y):\n",
    "        X_train, X_test = X_norm[train_indices], X_norm[test_indices]\n",
    "        y_train, y_test = y[train_indices], y[test_indices]\n",
    "\n",
    "        clf = LogisticRegression(C=c)\n",
    "        clf.fit(X_train, y_train)\n",
    "\n",
    "        pred = clf.predict_proba(X_test)[:, 1]\n",
    "        score = roc_auc_score(y_test, pred)\n",
    "        res.append({'roc_auc': score, 'C': c})\n",
    "    print('c = {} cv in {:.2f}'.format(c, time.time() - tbegin))"
   ]
  },
  {
   "cell_type": "markdown",
   "metadata": {},
   "source": [
    "### Result"
   ]
  },
  {
   "cell_type": "code",
   "execution_count": 146,
   "metadata": {
    "ExecuteTime": {
     "end_time": "2016-11-20T22:34:01.056710",
     "start_time": "2016-11-20T22:34:01.038685"
    },
    "collapsed": false
   },
   "outputs": [
    {
     "data": {
      "text/html": [
       "<div>\n",
       "<table border=\"1\" class=\"dataframe\">\n",
       "  <thead>\n",
       "    <tr style=\"text-align: right;\">\n",
       "      <th></th>\n",
       "      <th>roc_auc</th>\n",
       "    </tr>\n",
       "    <tr>\n",
       "      <th>C</th>\n",
       "      <th></th>\n",
       "    </tr>\n",
       "  </thead>\n",
       "  <tbody>\n",
       "    <tr>\n",
       "      <th>0.01000</th>\n",
       "      <td>0.716500</td>\n",
       "    </tr>\n",
       "    <tr>\n",
       "      <th>100.00000</th>\n",
       "      <td>0.716466</td>\n",
       "    </tr>\n",
       "    <tr>\n",
       "      <th>1.00000</th>\n",
       "      <td>0.716458</td>\n",
       "    </tr>\n",
       "    <tr>\n",
       "      <th>0.10000</th>\n",
       "      <td>0.716413</td>\n",
       "    </tr>\n",
       "    <tr>\n",
       "      <th>10.00000</th>\n",
       "      <td>0.716352</td>\n",
       "    </tr>\n",
       "    <tr>\n",
       "      <th>0.00100</th>\n",
       "      <td>0.716275</td>\n",
       "    </tr>\n",
       "    <tr>\n",
       "      <th>0.00010</th>\n",
       "      <td>0.711324</td>\n",
       "    </tr>\n",
       "    <tr>\n",
       "      <th>0.00001</th>\n",
       "      <td>0.695124</td>\n",
       "    </tr>\n",
       "  </tbody>\n",
       "</table>\n",
       "</div>"
      ],
      "text/plain": [
       "            roc_auc\n",
       "C                  \n",
       "0.01000    0.716500\n",
       "100.00000  0.716466\n",
       "1.00000    0.716458\n",
       "0.10000    0.716413\n",
       "10.00000   0.716352\n",
       "0.00100    0.716275\n",
       "0.00010    0.711324\n",
       "0.00001    0.695124"
      ]
     },
     "execution_count": 146,
     "metadata": {},
     "output_type": "execute_result"
    }
   ],
   "source": [
    "lin_regr_res = pd.DataFrame(res)\n",
    "lin_regr_res.groupby('C').mean().sort_values('roc_auc', ascending=False)"
   ]
  },
  {
   "cell_type": "markdown",
   "metadata": {},
   "source": [
    "## Remove cat. features"
   ]
  },
  {
   "cell_type": "code",
   "execution_count": 147,
   "metadata": {
    "ExecuteTime": {
     "end_time": "2016-11-20T22:35:32.378537",
     "start_time": "2016-11-20T22:35:32.372371"
    },
    "collapsed": true
   },
   "outputs": [],
   "source": [
    "cat_features = ['lobby_type']\n",
    "cat_features.extend(['r{}_hero'.format(i) for i in range(1, 6)])\n",
    "cat_features.extend(['d{}_hero'.format(i) for i in range(1, 6)])"
   ]
  },
  {
   "cell_type": "code",
   "execution_count": 224,
   "metadata": {
    "ExecuteTime": {
     "end_time": "2016-11-20T23:11:51.063818",
     "start_time": "2016-11-20T23:11:51.042246"
    },
    "collapsed": false
   },
   "outputs": [
    {
     "data": {
      "text/plain": [
       "{0, 1, 7}"
      ]
     },
     "execution_count": 224,
     "metadata": {},
     "output_type": "execute_result"
    }
   ],
   "source": [
    "set(test_features['lobby_type'])"
   ]
  },
  {
   "cell_type": "code",
   "execution_count": 148,
   "metadata": {
    "ExecuteTime": {
     "end_time": "2016-11-20T22:35:32.671011",
     "start_time": "2016-11-20T22:35:32.667278"
    },
    "collapsed": true
   },
   "outputs": [],
   "source": [
    "heroes_features = []\n",
    "heroes_features.extend(['r{}_hero'.format(i) for i in range(1, 6)])\n",
    "heroes_features.extend(['d{}_hero'.format(i) for i in range(1, 6)])"
   ]
  },
  {
   "cell_type": "code",
   "execution_count": 149,
   "metadata": {
    "ExecuteTime": {
     "end_time": "2016-11-20T22:35:33.078579",
     "start_time": "2016-11-20T22:35:33.052103"
    },
    "collapsed": true
   },
   "outputs": [],
   "source": [
    "base_features = test_features.drop(cat_features, axis=1)\n",
    "base_features = base_features.fillna(0)\n",
    "\n",
    "X = base_features.values\n",
    "X_norm = scaler.fit_transform(X)"
   ]
  },
  {
   "cell_type": "code",
   "execution_count": 153,
   "metadata": {
    "ExecuteTime": {
     "end_time": "2016-11-20T22:35:59.629796",
     "start_time": "2016-11-20T22:35:59.622646"
    },
    "collapsed": false
   },
   "outputs": [
    {
     "data": {
      "text/plain": [
       "(97230, 92)"
      ]
     },
     "execution_count": 153,
     "metadata": {},
     "output_type": "execute_result"
    }
   ],
   "source": [
    "X_norm.shape"
   ]
  },
  {
   "cell_type": "code",
   "execution_count": 154,
   "metadata": {
    "ExecuteTime": {
     "end_time": "2016-11-20T22:37:13.171485",
     "start_time": "2016-11-20T22:36:07.468429"
    },
    "collapsed": false
   },
   "outputs": [
    {
     "name": "stdout",
     "output_type": "stream",
     "text": [
      "c 1e-05\n",
      "c 0.0001\n",
      "c 0.001\n",
      "c 0.01\n",
      "c 0.1\n",
      "c 1\n",
      "c 10\n",
      "c 100\n"
     ]
    }
   ],
   "source": [
    "kf = KFold(n_splits=5, shuffle=True)\n",
    "\n",
    "res = []\n",
    "for c in c_range:\n",
    "    for train_indices, test_indices in kf.split(X, y):\n",
    "        X_train, X_test = X_norm[train_indices], X_norm[test_indices]\n",
    "        y_train, y_test = y[train_indices], y[test_indices]\n",
    "\n",
    "        clf = LogisticRegression(C=c)\n",
    "        clf.fit(X_train, y_train)\n",
    "\n",
    "        pred = clf.predict_proba(X_test)[:, 1]\n",
    "        score = roc_auc_score(y_test, pred)\n",
    "        res.append({'roc_auc': score, 'C': c})\n",
    "    print('c', c)"
   ]
  },
  {
   "cell_type": "markdown",
   "metadata": {},
   "source": [
    "### Result"
   ]
  },
  {
   "cell_type": "code",
   "execution_count": 155,
   "metadata": {
    "ExecuteTime": {
     "end_time": "2016-11-20T22:37:13.183627",
     "start_time": "2016-11-20T22:37:13.173051"
    },
    "collapsed": false
   },
   "outputs": [
    {
     "data": {
      "text/html": [
       "<div>\n",
       "<table border=\"1\" class=\"dataframe\">\n",
       "  <thead>\n",
       "    <tr style=\"text-align: right;\">\n",
       "      <th></th>\n",
       "      <th>roc_auc</th>\n",
       "    </tr>\n",
       "    <tr>\n",
       "      <th>C</th>\n",
       "      <th></th>\n",
       "    </tr>\n",
       "  </thead>\n",
       "  <tbody>\n",
       "    <tr>\n",
       "      <th>0.01000</th>\n",
       "      <td>0.716527</td>\n",
       "    </tr>\n",
       "    <tr>\n",
       "      <th>0.00100</th>\n",
       "      <td>0.716525</td>\n",
       "    </tr>\n",
       "    <tr>\n",
       "      <th>10.00000</th>\n",
       "      <td>0.716494</td>\n",
       "    </tr>\n",
       "    <tr>\n",
       "      <th>100.00000</th>\n",
       "      <td>0.716487</td>\n",
       "    </tr>\n",
       "    <tr>\n",
       "      <th>1.00000</th>\n",
       "      <td>0.716394</td>\n",
       "    </tr>\n",
       "    <tr>\n",
       "      <th>0.10000</th>\n",
       "      <td>0.716360</td>\n",
       "    </tr>\n",
       "    <tr>\n",
       "      <th>0.00010</th>\n",
       "      <td>0.711362</td>\n",
       "    </tr>\n",
       "    <tr>\n",
       "      <th>0.00001</th>\n",
       "      <td>0.695153</td>\n",
       "    </tr>\n",
       "  </tbody>\n",
       "</table>\n",
       "</div>"
      ],
      "text/plain": [
       "            roc_auc\n",
       "C                  \n",
       "0.01000    0.716527\n",
       "0.00100    0.716525\n",
       "10.00000   0.716494\n",
       "100.00000  0.716487\n",
       "1.00000    0.716394\n",
       "0.10000    0.716360\n",
       "0.00010    0.711362\n",
       "0.00001    0.695153"
      ]
     },
     "execution_count": 155,
     "metadata": {},
     "output_type": "execute_result"
    }
   ],
   "source": [
    "lin_regr_res_wo_cat = pd.DataFrame(res)\n",
    "lin_regr_res_wo_cat.groupby('C').mean().sort_values('roc_auc', ascending=False)"
   ]
  },
  {
   "cell_type": "markdown",
   "metadata": {},
   "source": [
    "## One hot cat. features"
   ]
  },
  {
   "cell_type": "code",
   "execution_count": 127,
   "metadata": {
    "ExecuteTime": {
     "end_time": "2016-11-20T16:14:05.455600",
     "start_time": "2016-11-20T16:14:05.446165"
    },
    "collapsed": true
   },
   "outputs": [],
   "source": [
    "data = test_features[heroes_features]"
   ]
  },
  {
   "cell_type": "code",
   "execution_count": 172,
   "metadata": {
    "ExecuteTime": {
     "end_time": "2016-11-20T22:49:23.939775",
     "start_time": "2016-11-20T22:49:23.920172"
    },
    "collapsed": false
   },
   "outputs": [
    {
     "data": {
      "text/plain": [
       "108"
      ]
     },
     "execution_count": 172,
     "metadata": {},
     "output_type": "execute_result"
    }
   ],
   "source": [
    "len(set(test_features['r1_hero']))  # actual number of heroes"
   ]
  },
  {
   "cell_type": "code",
   "execution_count": 162,
   "metadata": {
    "ExecuteTime": {
     "end_time": "2016-11-20T22:43:09.690965",
     "start_time": "2016-11-20T22:43:09.673225"
    },
    "collapsed": false
   },
   "outputs": [
    {
     "data": {
      "text/plain": [
       "r1_hero    112\n",
       "r2_hero    112\n",
       "r3_hero    112\n",
       "r4_hero    112\n",
       "r5_hero    112\n",
       "d1_hero    112\n",
       "d2_hero    112\n",
       "d3_hero    112\n",
       "d4_hero    112\n",
       "d5_hero    112\n",
       "dtype: int64"
      ]
     },
     "execution_count": 162,
     "metadata": {},
     "output_type": "execute_result"
    }
   ],
   "source": [
    "data.max()"
   ]
  },
  {
   "cell_type": "code",
   "execution_count": 169,
   "metadata": {
    "ExecuteTime": {
     "end_time": "2016-11-20T22:46:13.610169",
     "start_time": "2016-11-20T22:46:13.601361"
    },
    "collapsed": true
   },
   "outputs": [],
   "source": [
    "N = 112  # more than number of heroes, we have unused ids"
   ]
  },
  {
   "cell_type": "code",
   "execution_count": 130,
   "metadata": {
    "ExecuteTime": {
     "end_time": "2016-11-20T16:14:17.383248",
     "start_time": "2016-11-20T16:14:05.477914"
    },
    "collapsed": false
   },
   "outputs": [],
   "source": [
    "X_pick = np.zeros((data.shape[0], N))\n",
    "\n",
    "for i, match_id in enumerate(data.index):\n",
    "    for p in range(5):\n",
    "        X_pick[i, data.ix[match_id, 'r%d_hero' % (p+1)]-1] = 1\n",
    "        X_pick[i, data.ix[match_id, 'd%d_hero' % (p+1)]-1] = -1"
   ]
  },
  {
   "cell_type": "code",
   "execution_count": 159,
   "metadata": {
    "ExecuteTime": {
     "end_time": "2016-11-20T22:40:56.444380",
     "start_time": "2016-11-20T22:40:56.436185"
    },
    "collapsed": false
   },
   "outputs": [
    {
     "data": {
      "text/plain": [
       "(97230, 112)"
      ]
     },
     "execution_count": 159,
     "metadata": {},
     "output_type": "execute_result"
    }
   ],
   "source": [
    "X_pick.shape"
   ]
  },
  {
   "cell_type": "code",
   "execution_count": 165,
   "metadata": {
    "ExecuteTime": {
     "end_time": "2016-11-20T22:43:45.101413",
     "start_time": "2016-11-20T22:43:44.884291"
    },
    "collapsed": false
   },
   "outputs": [
    {
     "data": {
      "text/plain": [
       "(97230, 92)"
      ]
     },
     "execution_count": 165,
     "metadata": {},
     "output_type": "execute_result"
    }
   ],
   "source": [
    "base_features = test_features.drop(cat_features, axis=1)\n",
    "base_features = base_features.fillna(0)\n",
    "X = base_features.values\n",
    "X_norm = scaler.fit_transform(X)\n",
    "X_norm.shape"
   ]
  },
  {
   "cell_type": "code",
   "execution_count": 166,
   "metadata": {
    "ExecuteTime": {
     "end_time": "2016-11-20T22:43:53.225374",
     "start_time": "2016-11-20T22:43:53.147203"
    },
    "collapsed": false
   },
   "outputs": [
    {
     "data": {
      "text/plain": [
       "(97230, 204)"
      ]
     },
     "execution_count": 166,
     "metadata": {},
     "output_type": "execute_result"
    }
   ],
   "source": [
    "X_norm = np.hstack((X_norm, X_pick))\n",
    "X_norm.shape"
   ]
  },
  {
   "cell_type": "code",
   "execution_count": 167,
   "metadata": {
    "ExecuteTime": {
     "end_time": "2016-11-20T22:46:13.587652",
     "start_time": "2016-11-20T22:44:15.176787"
    },
    "collapsed": false
   },
   "outputs": [
    {
     "name": "stdout",
     "output_type": "stream",
     "text": [
      "1e-05\n",
      "0.0001\n",
      "0.001\n",
      "0.01\n",
      "0.1\n",
      "1\n",
      "10\n",
      "100\n"
     ]
    }
   ],
   "source": [
    "kf = KFold(n_splits=5, shuffle=True)\n",
    "\n",
    "res = []\n",
    "for c in c_range:\n",
    "    for train_indices, test_indices in kf.split(X, y):\n",
    "        X_train, X_test = X_norm[train_indices], X_norm[test_indices]\n",
    "        y_train, y_test = y[train_indices], y[test_indices]\n",
    "\n",
    "        clf = LogisticRegression(C=c)\n",
    "        clf.fit(X_train, y_train)\n",
    "\n",
    "        pred = clf.predict_proba(X_test)[:, 1]\n",
    "        score = roc_auc_score(y_test, pred)\n",
    "        res.append({'roc_auc': score, 'C': c})\n",
    "    print(c)"
   ]
  },
  {
   "cell_type": "markdown",
   "metadata": {
    "ExecuteTime": {
     "end_time": "2016-11-20T15:51:50.556693",
     "start_time": "2016-11-20T15:51:50.551463"
    }
   },
   "source": [
    "### Result"
   ]
  },
  {
   "cell_type": "code",
   "execution_count": 168,
   "metadata": {
    "ExecuteTime": {
     "end_time": "2016-11-20T22:46:13.599834",
     "start_time": "2016-11-20T22:46:13.589448"
    },
    "collapsed": false
   },
   "outputs": [
    {
     "data": {
      "text/html": [
       "<div>\n",
       "<table border=\"1\" class=\"dataframe\">\n",
       "  <thead>\n",
       "    <tr style=\"text-align: right;\">\n",
       "      <th></th>\n",
       "      <th>roc_auc</th>\n",
       "    </tr>\n",
       "    <tr>\n",
       "      <th>C</th>\n",
       "      <th></th>\n",
       "    </tr>\n",
       "  </thead>\n",
       "  <tbody>\n",
       "    <tr>\n",
       "      <th>0.10000</th>\n",
       "      <td>0.752013</td>\n",
       "    </tr>\n",
       "    <tr>\n",
       "      <th>100.00000</th>\n",
       "      <td>0.751886</td>\n",
       "    </tr>\n",
       "    <tr>\n",
       "      <th>1.00000</th>\n",
       "      <td>0.751860</td>\n",
       "    </tr>\n",
       "    <tr>\n",
       "      <th>10.00000</th>\n",
       "      <td>0.751803</td>\n",
       "    </tr>\n",
       "    <tr>\n",
       "      <th>0.01000</th>\n",
       "      <td>0.751787</td>\n",
       "    </tr>\n",
       "    <tr>\n",
       "      <th>0.00100</th>\n",
       "      <td>0.746181</td>\n",
       "    </tr>\n",
       "    <tr>\n",
       "      <th>0.00010</th>\n",
       "      <td>0.725170</td>\n",
       "    </tr>\n",
       "    <tr>\n",
       "      <th>0.00001</th>\n",
       "      <td>0.699236</td>\n",
       "    </tr>\n",
       "  </tbody>\n",
       "</table>\n",
       "</div>"
      ],
      "text/plain": [
       "            roc_auc\n",
       "C                  \n",
       "0.10000    0.752013\n",
       "100.00000  0.751886\n",
       "1.00000    0.751860\n",
       "10.00000   0.751803\n",
       "0.01000    0.751787\n",
       "0.00100    0.746181\n",
       "0.00010    0.725170\n",
       "0.00001    0.699236"
      ]
     },
     "execution_count": 168,
     "metadata": {},
     "output_type": "execute_result"
    }
   ],
   "source": [
    "lin_regr_res_w_cat = pd.DataFrame(res)\n",
    "lin_regr_res_w_cat.groupby('C').mean().sort_values('roc_auc', ascending=False)"
   ]
  },
  {
   "cell_type": "markdown",
   "metadata": {},
   "source": [
    "# Test results"
   ]
  },
  {
   "cell_type": "markdown",
   "metadata": {},
   "source": [
    "## Prepare train data"
   ]
  },
  {
   "cell_type": "code",
   "execution_count": 186,
   "metadata": {
    "ExecuteTime": {
     "end_time": "2016-11-20T22:54:43.123802",
     "start_time": "2016-11-20T22:54:42.220306"
    },
    "collapsed": false
   },
   "outputs": [],
   "source": [
    "features = pd.read_csv('features.csv')"
   ]
  },
  {
   "cell_type": "code",
   "execution_count": 191,
   "metadata": {
    "ExecuteTime": {
     "end_time": "2016-11-20T22:56:20.280868",
     "start_time": "2016-11-20T22:56:20.230157"
    },
    "collapsed": false
   },
   "outputs": [],
   "source": [
    "train = features.drop(drop_features, axis=1)\n",
    "\n",
    "data = train[heroes_features]\n",
    "X_pick = np.zeros((data.shape[0], N))\n",
    "\n",
    "for i, match_id in enumerate(data.index):\n",
    "    for p in range(5):\n",
    "        X_pick[i, data.ix[match_id, 'r%d_hero' % (p+1)]-1] = 1\n",
    "        X_pick[i, data.ix[match_id, 'd%d_hero' % (p+1)]-1] = -1\n",
    "\n",
    "train_base = train.drop(cat_features, axis=1)\n",
    "train_base = train_base.fillna(0)\n",
    "X_train = train_base.values\n",
    "scaler = StandardScaler()\n",
    "X_train = scaler.fit_transform(X_train)\n",
    "X_train.shape\n",
    "\n",
    "X_train = np.hstack((X_train, X_pick))\n",
    "X_train.shape\n",
    "\n",
    "y_train = features['radiant_win'].values"
   ]
  },
  {
   "cell_type": "code",
   "execution_count": 196,
   "metadata": {
    "ExecuteTime": {
     "end_time": "2016-11-20T22:58:01.561557",
     "start_time": "2016-11-20T22:57:56.447151"
    },
    "collapsed": false
   },
   "outputs": [
    {
     "data": {
      "text/plain": [
       "LogisticRegression(C=0.1, class_weight=None, dual=False, fit_intercept=True,\n",
       "          intercept_scaling=1, max_iter=100, multi_class='ovr', n_jobs=1,\n",
       "          penalty='l2', random_state=None, solver='liblinear', tol=0.0001,\n",
       "          verbose=0, warm_start=False)"
      ]
     },
     "execution_count": 196,
     "metadata": {},
     "output_type": "execute_result"
    }
   ],
   "source": [
    "clf = LogisticRegression(C=0.1)  # best on cv\n",
    "clf.fit(X_train, y_train)"
   ]
  },
  {
   "cell_type": "markdown",
   "metadata": {},
   "source": [
    "## Prepare test data"
   ]
  },
  {
   "cell_type": "code",
   "execution_count": 204,
   "metadata": {
    "ExecuteTime": {
     "end_time": "2016-11-20T23:02:37.148488",
     "start_time": "2016-11-20T23:02:36.960949"
    },
    "collapsed": true
   },
   "outputs": [],
   "source": [
    "features_test = pd.read_csv('features_test.csv')"
   ]
  },
  {
   "cell_type": "code",
   "execution_count": 207,
   "metadata": {
    "ExecuteTime": {
     "end_time": "2016-11-20T23:02:54.523084",
     "start_time": "2016-11-20T23:02:54.517204"
    },
    "collapsed": false
   },
   "outputs": [
    {
     "data": {
      "text/plain": [
       "False"
      ]
     },
     "execution_count": 207,
     "metadata": {},
     "output_type": "execute_result"
    }
   ],
   "source": [
    "'radiant_win' in features_test.columns"
   ]
  },
  {
   "cell_type": "code",
   "execution_count": 210,
   "metadata": {
    "ExecuteTime": {
     "end_time": "2016-11-20T23:03:25.192324",
     "start_time": "2016-11-20T23:03:25.187884"
    },
    "collapsed": true
   },
   "outputs": [],
   "source": [
    "for feature_to_drop in drop_features:\n",
    "    if feature_to_drop in features_test:\n",
    "        del features_test[feature_to_drop]\n",
    "test = features_test"
   ]
  },
  {
   "cell_type": "code",
   "execution_count": 211,
   "metadata": {
    "ExecuteTime": {
     "end_time": "2016-11-20T23:03:28.186299",
     "start_time": "2016-11-20T23:03:25.995160"
    },
    "collapsed": false
   },
   "outputs": [
    {
     "data": {
      "text/plain": [
       "(17177, 204)"
      ]
     },
     "execution_count": 211,
     "metadata": {},
     "output_type": "execute_result"
    }
   ],
   "source": [
    "data = test[heroes_features]\n",
    "X_pick = np.zeros((data.shape[0], N))\n",
    "\n",
    "for i, match_id in enumerate(data.index):\n",
    "    for p in range(5):\n",
    "        X_pick[i, data.ix[match_id, 'r%d_hero' % (p+1)]-1] = 1\n",
    "        X_pick[i, data.ix[match_id, 'd%d_hero' % (p+1)]-1] = -1\n",
    "\n",
    "test_base = test.drop(cat_features, axis=1)\n",
    "test_base = test_base.fillna(0)\n",
    "X_test = test_base.values\n",
    "scaler = StandardScaler()\n",
    "X_test = scaler.fit_transform(X_test)\n",
    "X_test = np.hstack((X_test, X_pick))\n",
    "X_test.shape"
   ]
  },
  {
   "cell_type": "code",
   "execution_count": 212,
   "metadata": {
    "ExecuteTime": {
     "end_time": "2016-11-20T23:03:55.763651",
     "start_time": "2016-11-20T23:03:55.747556"
    },
    "collapsed": true
   },
   "outputs": [],
   "source": [
    "pred = clf.predict_proba(X_test)[:, 1]\n",
    "#score = roc_auc_score(y_test, pred)"
   ]
  },
  {
   "cell_type": "code",
   "execution_count": 215,
   "metadata": {
    "ExecuteTime": {
     "end_time": "2016-11-20T23:04:28.442817",
     "start_time": "2016-11-20T23:04:28.435200"
    },
    "collapsed": false
   },
   "outputs": [
    {
     "data": {
      "text/plain": [
       "array([ 0.83216894,  0.76340634,  0.19350755, ...,  0.2454362 ,\n",
       "        0.63587563,  0.44022482])"
      ]
     },
     "execution_count": 215,
     "metadata": {},
     "output_type": "execute_result"
    }
   ],
   "source": [
    "pred"
   ]
  },
  {
   "cell_type": "code",
   "execution_count": 216,
   "metadata": {
    "ExecuteTime": {
     "end_time": "2016-11-20T23:04:30.428019",
     "start_time": "2016-11-20T23:04:30.418904"
    },
    "collapsed": false
   },
   "outputs": [
    {
     "data": {
      "text/plain": [
       "(0.0084676402042699675, 0.99657066046098575)"
      ]
     },
     "execution_count": 216,
     "metadata": {},
     "output_type": "execute_result"
    }
   ],
   "source": [
    "min(pred), max(pred)"
   ]
  },
  {
   "cell_type": "markdown",
   "metadata": {},
   "source": [
    "# Report"
   ]
  },
  {
   "cell_type": "markdown",
   "metadata": {},
   "source": [
    "## Подход 1: градиентный бустинг \"в лоб\"\n",
    "\n",
    "**Какие признаки имеют пропуски среди своих значений? Что могут означать пропуски в этих признаках (ответьте на этот вопрос для двух любых признаков)?**\n",
    "\n",
    "```python\n",
    "['first_blood_time',\n",
    " 'first_blood_team',\n",
    " 'first_blood_player1',\n",
    " 'first_blood_player2',\n",
    " 'radiant_bottle_time',\n",
    " 'radiant_courier_time',\n",
    " 'radiant_flying_courier_time',\n",
    " 'radiant_first_ward_time',\n",
    " 'dire_bottle_time',\n",
    " 'dire_courier_time',\n",
    " 'dire_flying_courier_time',\n",
    " 'dire_first_ward_time']\n",
    "```\n",
    "В первые 5 минут матча может не произойти события взятия первой крови: \n",
    "```python\n",
    "['first_blood_time',\n",
    " 'first_blood_team',\n",
    " 'first_blood_player1',\n",
    " 'first_blood_player2',]\n",
    "```\n",
    "То же с ward_time.\n",
    "\n",
    "**Как называется столбец, содержащий целевую переменную?**\n",
    "```python\n",
    "'radiant_win'\n",
    "```\n",
    "\n",
    "**Как долго проводилась кросс-валидация для градиентного бустинга с 30 деревьями? Инструкцию по измерению времени можно найти ниже по тексту. Какое качество при этом получилось? **\n",
    "\n",
    "train time = **98s** (max)\n",
    "\n",
    "AUC-ROC = **0.694529**\n",
    "\n",
    "** Имеет ли смысл использовать больше 30 деревьев в градиентном бустинге? Что бы вы предложили делать, чтобы ускорить его обучение при увеличении количества деревьев? **\n",
    "\n",
    "Имеет, есть рост качества (см. n_estimators = 40). \n",
    "Чтобы ускорить обучения при увеличении количества деревьев можно можно уменьшить глубину деревьев."
   ]
  },
  {
   "cell_type": "markdown",
   "metadata": {},
   "source": [
    "## Подход 2: логистическая регрессия\n",
    "\n",
    "**1. Какое качество получилось у логистической регрессии над всеми исходными признаками? Как оно соотносится с качеством градиентного бустинга? Чем вы можете объяснить эту разницу? Быстрее ли работает логистическая регрессия по сравнению с градиентным бустингом?**\n",
    "\n",
    "train time = **11.03s** (max)\n",
    "\n",
    "AUC-ROC = **0.716500** (над всеми исходными признаками) (Выше, чем у град. бустинга)\n",
    "\n",
    "Логистическая регрессия требует различных предобработок и эвристик чтобы показать приемлемые результаты.\n",
    "Логистическая регрессия по сравнению с градиентным бустингом работает быстрее.\n",
    "\n",
    "**2. Как влияет на качество логистической регрессии удаление категориальных признаков (укажите новое значение метрики качества)? Чем вы можете объяснить это изменение?**\n",
    "\n",
    "AUC-ROC = **0.716527** (без категориальных)\n",
    "\n",
    "Для категориальных признаков в лог. регрессии нужна обработка (bags) т.к. их нельзя сравнивать между собой. Если обработка не используется (1 пункт.) то метод работает чуть лучше без этих параметров.\n",
    "\n",
    "**3. Сколько различных идентификаторов героев существует в данной игре?**\n",
    "\n",
    "108 идентификаторов\n",
    "\n",
    "**4. Какое получилось качество при добавлении \"мешка слов\" по героям? Улучшилось ли оно по сравнению с предыдущим вариантом? Чем вы можете это объяснить?**\n",
    "\n",
    "AUC-ROC = **0.752013** (с правильной обработкой кат. признаков)\n",
    "\n",
    "Кач-во сильно улучшилось, т.к. начальный выбор героев сильно влияет на исход игры, нужно лишь правильно обработать эти данные.\n",
    "\n",
    "**5. Какое минимальное и максимальное значение прогноза на тестовой выборке получилось у лучшего из алгоритмов?**\n",
    "\n",
    "Лучший алгоритм -- *linear regression, c=0.1, bag of words(cat features)*\n",
    "\n",
    "min_pred = 0.0084676402042699675\n",
    "\n",
    "max_pred = 0.99657066046098575"
   ]
  }
 ],
 "metadata": {
  "hide_input": false,
  "kernelspec": {
   "display_name": "Python 3",
   "language": "python",
   "name": "python3"
  },
  "language_info": {
   "codemirror_mode": {
    "name": "ipython",
    "version": 3
   },
   "file_extension": ".py",
   "mimetype": "text/x-python",
   "name": "python",
   "nbconvert_exporter": "python",
   "pygments_lexer": "ipython3",
   "version": "3.4.3"
  },
  "toc": {
   "toc_cell": false,
   "toc_number_sections": true,
   "toc_threshold": 6,
   "toc_window_display": true
  },
  "toc_position": {
   "height": "432px",
   "left": "79.375px",
   "right": "20px",
   "top": "226px",
   "width": "248px"
  }
 },
 "nbformat": 4,
 "nbformat_minor": 1
}
